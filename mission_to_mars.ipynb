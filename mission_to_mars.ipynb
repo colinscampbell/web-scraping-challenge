{
 "cells": [
  {
   "cell_type": "code",
   "execution_count": 119,
   "metadata": {},
   "outputs": [],
   "source": [
    "from bs4 import BeautifulSoup\n",
    "import requests\n",
    "import pymongo\n",
    "from splinter import Browser\n",
    "from webdriver_manager.chrome import ChromeDriverManager\n",
    "from splinter import Browser\n",
    "import pandas as pd"
   ]
  },
  {
   "cell_type": "code",
   "execution_count": 120,
   "metadata": {},
   "outputs": [],
   "source": [
    "# Initialize PyMongo to work with MongoDBs\n",
    "conn = 'mongodb://localhost:27017'\n",
    "client = pymongo.MongoClient(conn)\n",
    "db = client.commerce_db\n",
    "collection = db.items"
   ]
  },
  {
   "cell_type": "code",
   "execution_count": 122,
   "metadata": {},
   "outputs": [
    {
     "name": "stderr",
     "output_type": "stream",
     "text": [
      "\n",
      "\n",
      "====== WebDriver manager ======\n",
      "Current google-chrome version is 99.0.4844\n",
      "Get LATEST chromedriver version for 99.0.4844 google-chrome\n",
      "Driver [C:\\Users\\cscam\\.wdm\\drivers\\chromedriver\\win32\\99.0.4844.51\\chromedriver.exe] found in cache\n"
     ]
    }
   ],
   "source": [
    "executable_path = {'executable_path': ChromeDriverManager().install()}\n",
    "browser = Browser('chrome', **executable_path, headless=False)\n",
    "\n",
    "browser.visit('https://redplanetscience.com/')\n",
    "soup1 = BeautifulSoup(browser.html, 'html.parser')\n",
    "\n",
    "browser.visit('https://spaceimages-mars.com')\n",
    "soup2 = BeautifulSoup(browser.html, 'html.parser')\n",
    "\n",
    "browser.visit('https://galaxyfacts-mars.com')\n",
    "soup3 = BeautifulSoup(browser.html, 'html.parser')\n",
    "\n",
    "browser.visit('https://marshemispheres.com/schiaparelli.html')\n",
    "soup4 = BeautifulSoup(browser.html, 'html.parser')\n",
    "\n",
    "browser.visit('https://marshemispheres.com/syrtis.html')\n",
    "soup5 = BeautifulSoup(browser.html, 'html.parser')\n",
    "\n",
    "browser.visit('https://marshemispheres.com/valles.html')\n",
    "soup6 = BeautifulSoup(browser.html, 'html.parser')\n",
    "\n",
    "browser.visit('https://marshemispheres.com/cerberus.html')\n",
    "soup7 = BeautifulSoup(browser.html, 'html.parser')\n",
    "\n",
    "browser.quit()"
   ]
  },
  {
   "cell_type": "code",
   "execution_count": 157,
   "metadata": {},
   "outputs": [],
   "source": [
    "titles = soup1.find_all('div', class_='content_title')\n",
    "articles = soup1.find_all('div', class_='article_teaser_body')\n",
    "\n",
    "imgurl = soup2.find_all('a', class_='showimg fancybox-thumbs')\n",
    "\n",
    "table_data = soup3.find_all('tbody')\n",
    "\n",
    "hemispheretext1 = soup4.find_all('h2', class_='title')[0].text\n",
    "hemisphereimage1 = soup4.find_all('img', class_=\"wide-image\")\n",
    "\n",
    "hemispheretext2 = soup5.find_all('h2', class_='title')[0].text\n",
    "hemisphereimage2 = soup5.find_all('img', class_=\"wide-image\")\n",
    "\n",
    "hemispheretext3 = soup6.find_all('h2', class_='title')[0].text\n",
    "hemisphereimage3 = soup6.find_all('img', class_=\"wide-image\")\n",
    "\n",
    "hemispheretext4 = soup7.find_all('h2', class_='title')[0].text\n",
    "hemisphereimage4 = soup7.find_all('img', class_=\"wide-image\")"
   ]
  },
  {
   "cell_type": "code",
   "execution_count": 49,
   "metadata": {},
   "outputs": [],
   "source": [
    "title_array = []\n",
    "text_array = []\n",
    "large_image = 'https://spaceimages-mars.com/' + imgurl[0]['href']\n",
    "table_array = table_data[0]\n",
    "\n",
    "for title in titles:\n",
    "    title_array.append(title.text)\n",
    "\n",
    "for text in articles:\n",
    "    text_array.append(text.text)\n"
   ]
  },
  {
   "cell_type": "code",
   "execution_count": 156,
   "metadata": {},
   "outputs": [
    {
     "data": {
      "text/plain": [
       "'images/3778f7b43bbbc89d6e3cfabb3613ba93_schiaparelli_enhanced.tif_full.jpg'"
      ]
     },
     "execution_count": 156,
     "metadata": {},
     "output_type": "execute_result"
    }
   ],
   "source": [
    "hemisphereimage1[0]['src']\n",
    "\n",
    "dict = {\n",
    "    \"title\": \"asdf\"\n",
    "    \"img_url\": \"asdf\"\n",
    "}"
   ]
  },
  {
   "cell_type": "code",
   "execution_count": null,
   "metadata": {},
   "outputs": [],
   "source": [
    "#* Visit the astrogeology site [here](https://marshemispheres.com/) to obtain high resolution images for each of Mar's hemispheres.\n",
    "\n",
    "#* You will need to click each of the links to the hemispheres in order to find the image url to the full resolution image.\n",
    "\n",
    "#* Save both the image url string for the full resolution hemisphere image, and the Hemisphere title containing the hemisphere name. Use a Python dictionary to store the data using the keys `img_url` and `title`.\n",
    "\n",
    "# Append the dictionary with the image url string and the hemisphere title to a list. This list will contain one dictionary for each hemisphere."
   ]
  }
 ],
 "metadata": {
  "interpreter": {
   "hash": "7c19f75c58f27f71661e07b8011b01fcc70f648a8eebfbb97779177ad9ca81a3"
  },
  "kernelspec": {
   "display_name": "Python 3.8.8 ('base')",
   "language": "python",
   "name": "python3"
  },
  "language_info": {
   "codemirror_mode": {
    "name": "ipython",
    "version": 3
   },
   "file_extension": ".py",
   "mimetype": "text/x-python",
   "name": "python",
   "nbconvert_exporter": "python",
   "pygments_lexer": "ipython3",
   "version": "3.8.8"
  },
  "orig_nbformat": 4
 },
 "nbformat": 4,
 "nbformat_minor": 2
}
